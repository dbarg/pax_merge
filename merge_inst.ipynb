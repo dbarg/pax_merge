{
 "cells": [
  {
   "cell_type": "code",
   "execution_count": 2,
   "metadata": {
    "collapsed": false
   },
   "outputs": [],
   "source": [
    "\n",
    "#------------------------------------------------------------------------------\n",
    "#------------------------------------------------------------------------------\n",
    "\n",
    "import matplotlib as mpl\n",
    "import matplotlib.pyplot as plt\n",
    "import numpy as np\n",
    "import os\n",
    "import pickle\n",
    "import pandas as pd\n",
    "import scipy as sp\n",
    "import scipy.stats\n",
    "import sys\n",
    "\n",
    "from IPython.display import display\n",
    "from scipy.stats import poisson\n",
    "from pax_utils import utils_pax\n"
   ]
  },
  {
   "cell_type": "code",
   "execution_count": 4,
   "metadata": {
    "collapsed": false
   },
   "outputs": [
    {
     "name": "stdout",
     "output_type": "stream",
     "text": [
      "(200000, 8)\n",
      "(200000, 148)\n"
     ]
    },
    {
     "data": {
      "text/html": [
       "<div>\n",
       "<style scoped>\n",
       "    .dataframe tbody tr th:only-of-type {\n",
       "        vertical-align: middle;\n",
       "    }\n",
       "\n",
       "    .dataframe tbody tr th {\n",
       "        vertical-align: top;\n",
       "    }\n",
       "\n",
       "    .dataframe thead th {\n",
       "        text-align: right;\n",
       "    }\n",
       "</style>\n",
       "<table border=\"1\" class=\"dataframe\">\n",
       "  <thead>\n",
       "    <tr style=\"text-align: right;\">\n",
       "      <th></th>\n",
       "      <th>event_number</th>\n",
       "      <th>recoil_type</th>\n",
       "      <th>x</th>\n",
       "      <th>y</th>\n",
       "      <th>depth</th>\n",
       "      <th>s1_photons</th>\n",
       "      <th>s2_electrons</th>\n",
       "      <th>t</th>\n",
       "    </tr>\n",
       "  </thead>\n",
       "  <tbody>\n",
       "    <tr>\n",
       "      <th>0</th>\n",
       "      <td>0</td>\n",
       "      <td>ER</td>\n",
       "      <td>4.628629</td>\n",
       "      <td>27.725661</td>\n",
       "      <td>24.814994</td>\n",
       "      <td>5</td>\n",
       "      <td>20</td>\n",
       "      <td>650000.0</td>\n",
       "    </tr>\n",
       "  </tbody>\n",
       "</table>\n",
       "</div>"
      ],
      "text/plain": [
       "   event_number recoil_type         x          y      depth  s1_photons  \\\n",
       "0             0          ER  4.628629  27.725661  24.814994           5   \n",
       "\n",
       "   s2_electrons         t  \n",
       "0            20  650000.0  "
      ]
     },
     "metadata": {},
     "output_type": "display_data"
    },
    {
     "data": {
      "text/html": [
       "<div>\n",
       "<style scoped>\n",
       "    .dataframe tbody tr th:only-of-type {\n",
       "        vertical-align: middle;\n",
       "    }\n",
       "\n",
       "    .dataframe tbody tr th {\n",
       "        vertical-align: top;\n",
       "    }\n",
       "\n",
       "    .dataframe thead th {\n",
       "        text-align: right;\n",
       "    }\n",
       "</style>\n",
       "<table border=\"1\" class=\"dataframe\">\n",
       "  <thead>\n",
       "    <tr style=\"text-align: right;\">\n",
       "      <th></th>\n",
       "      <th>event_number</th>\n",
       "      <th>event_n_pulses</th>\n",
       "      <th>event_pulses_count</th>\n",
       "      <th>event_s2_count</th>\n",
       "      <th>event_s2_left</th>\n",
       "      <th>event_s2_right</th>\n",
       "      <th>event_s2_length</th>\n",
       "      <th>intr_count</th>\n",
       "      <th>intr_x</th>\n",
       "      <th>intr_y</th>\n",
       "      <th>...</th>\n",
       "      <th>s2_area_117</th>\n",
       "      <th>s2_area_118</th>\n",
       "      <th>s2_area_119</th>\n",
       "      <th>s2_area_120</th>\n",
       "      <th>s2_area_121</th>\n",
       "      <th>s2_area_122</th>\n",
       "      <th>s2_area_123</th>\n",
       "      <th>s2_area_124</th>\n",
       "      <th>s2_area_125</th>\n",
       "      <th>s2_area_126</th>\n",
       "    </tr>\n",
       "  </thead>\n",
       "  <tbody>\n",
       "    <tr>\n",
       "      <th>0</th>\n",
       "      <td>0</td>\n",
       "      <td>190</td>\n",
       "      <td>190</td>\n",
       "      <td>3</td>\n",
       "      <td>82836</td>\n",
       "      <td>83317</td>\n",
       "      <td>482</td>\n",
       "      <td>0</td>\n",
       "      <td>-24.064536</td>\n",
       "      <td>-7.107143</td>\n",
       "      <td>...</td>\n",
       "      <td>1.584757</td>\n",
       "      <td>0.0</td>\n",
       "      <td>2.464882</td>\n",
       "      <td>0.924652</td>\n",
       "      <td>0.0</td>\n",
       "      <td>1.981129</td>\n",
       "      <td>3.65679</td>\n",
       "      <td>0.0</td>\n",
       "      <td>1.322134</td>\n",
       "      <td>2.032758</td>\n",
       "    </tr>\n",
       "  </tbody>\n",
       "</table>\n",
       "<p>1 rows × 148 columns</p>\n",
       "</div>"
      ],
      "text/plain": [
       "   event_number  event_n_pulses  event_pulses_count  event_s2_count  \\\n",
       "0             0             190                 190               3   \n",
       "\n",
       "   event_s2_left  event_s2_right  event_s2_length  intr_count     intr_x  \\\n",
       "0          82836           83317              482           0 -24.064536   \n",
       "\n",
       "     intr_y     ...       s2_area_117  s2_area_118 s2_area_119  s2_area_120  \\\n",
       "0 -7.107143     ...          1.584757          0.0    2.464882     0.924652   \n",
       "\n",
       "   s2_area_121  s2_area_122  s2_area_123  s2_area_124  s2_area_125  \\\n",
       "0          0.0     1.981129      3.65679          0.0     1.322134   \n",
       "\n",
       "   s2_area_126  \n",
       "0     2.032758  \n",
       "\n",
       "[1 rows x 148 columns]"
      ]
     },
     "metadata": {},
     "output_type": "display_data"
    }
   ],
   "source": [
    "\n",
    "#------------------------------------------------------------------------------\n",
    "#------------------------------------------------------------------------------\n",
    "\n",
    "dir_input = 'merged/apr30/'\n",
    "file_inst = '../pax_instructions/merged_instructions_files.pkl'\n",
    "file_pax  = dir_input + 'merged_zip_200000.pkl'\n",
    "file_all  = dir_input + 'merged_all_200000.pkl'\n",
    "\n",
    "nInst = 200000\n",
    "#nInst = 2000\n",
    "\n",
    "df_inst = pd.read_pickle(file_inst)[:][0:nInst].reset_index(drop=True).rename(columns={'instruction': 'event_number'}).copy()\n",
    "df_pax  = pd.read_pickle(file_pax).reset_index(drop=True)\n",
    "\n",
    "df_inst['event_number'] = df_inst.index\n",
    "df_pax ['event_number'] = df_pax.index\n",
    "\n",
    "rows = 1\n",
    "\n",
    "print(df_inst.shape)\n",
    "print(df_pax.shape)\n",
    "\n",
    "display(df_inst[0:rows][:])\n",
    "display(df_pax[0:rows][:])\n",
    "\n",
    "nInst = df_inst.shape[0]\n",
    "nPax  = df_pax.shape[0]\n",
    "\n",
    "if (nInst != nPax):\n",
    "    \n",
    "    print(\"Error! number of pax events (\" +str(nPax) + \") not equal to number of instructions (\" + str(nInst) + \")\") \n",
    "    \n",
    "    \n"
   ]
  },
  {
   "cell_type": "code",
   "execution_count": 5,
   "metadata": {
    "collapsed": false
   },
   "outputs": [
    {
     "name": "stdout",
     "output_type": "stream",
     "text": [
      "merged/apr30/merged_all_200000.pkl\n"
     ]
    }
   ],
   "source": [
    "\n",
    "#------------------------------------------------------------------------------\n",
    "#------------------------------------------------------------------------------\n",
    "\n",
    "df_all = pd.merge(df_inst, df_pax, on='event_number')\n",
    "\n",
    "print(file_all)\n",
    "\n",
    "df_all.to_pickle(file_all)\n",
    "\n",
    "\n",
    "#------------------------------------------------------------------------------\n",
    "#------------------------------------------------------------------------------\n",
    "\n",
    "df_test = pd.read_pickle(file_all)\n",
    "nEvents = df_test.shape[0\n",
    "                       ]\n",
    "print()\n",
    "print(\"MergedEvents: \" + str(nEvents))\n",
    "display(df_test[:][0:5])\n",
    "print()\n",
    "\n",
    "\n"
   ]
  },
  {
   "cell_type": "code",
   "execution_count": null,
   "metadata": {
    "collapsed": false
   },
   "outputs": [],
   "source": []
  },
  {
   "cell_type": "code",
   "execution_count": null,
   "metadata": {
    "collapsed": true
   },
   "outputs": [],
   "source": []
  },
  {
   "cell_type": "code",
   "execution_count": null,
   "metadata": {
    "collapsed": true
   },
   "outputs": [],
   "source": []
  }
 ],
 "metadata": {
  "kernelspec": {
   "display_name": "Python 3",
   "language": "python",
   "name": "python3"
  },
  "language_info": {
   "codemirror_mode": {
    "name": "ipython",
    "version": 3
   },
   "file_extension": ".py",
   "mimetype": "text/x-python",
   "name": "python",
   "nbconvert_exporter": "python",
   "pygments_lexer": "ipython3",
   "version": "3.4.4"
  }
 },
 "nbformat": 4,
 "nbformat_minor": 1
}

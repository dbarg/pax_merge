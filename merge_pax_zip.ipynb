{
 "cells": [
  {
   "cell_type": "code",
   "execution_count": null,
   "metadata": {},
   "outputs": [],
   "source": [
    "\n",
    "####################################################################################################\n",
    "####################################################################################################\n",
    "\n",
    "import datetime\n",
    "import os\n",
    "import pandas as pd\n",
    "import pickle\n",
    "import sys\n",
    "import time\n",
    "\n",
    "from IPython.display import clear_output\n",
    "from IPython.display import display\n"
   ]
  },
  {
   "cell_type": "code",
   "execution_count": null,
   "metadata": {},
   "outputs": [],
   "source": [
    "\n",
    "print()\n",
    "\n",
    "####################################################################################################\n",
    "# Merge zip files\n",
    "####################################################################################################\n",
    "\n",
    "dir_base      = 'merged/apr26/'\n",
    "dir_in_zip    = dir_base + 'zip/'\n",
    "lst_files_zip = os.listdir(dir_in_zip)\n",
    "lst_files_zip = lst_files_zip[0:80]\n",
    "\n",
    "df_merged_all = pd.DataFrame()\n",
    "\n",
    "\n",
    "####################################################################################################\n",
    "####################################################################################################\n",
    "\n",
    "for file_i, filename in enumerate(lst_files_zip):\n",
    "    \n",
    "    t1            = time.time()\n",
    "    file_zip_in   = dir_in_zip + filename\n",
    "    df_zip        = pd.read_pickle(file_zip_in)\n",
    "    df_merged_all = df_merged_all.append(df_zip)\n",
    "    t2            = time.time()\n",
    "    dt21          = round(t2 - t1, 2)\n",
    "    \n",
    "    ###############################################################################################\n",
    "    ###############################################################################################\n",
    "    \n",
    "    print(file_zip_in + \": \" + str(dt21))\n",
    "    \n",
    "    #print(df_zip.shape)\n",
    "    #display(df_zip[0:1][:])\n",
    "    \n",
    "    continue\n",
    "\n",
    "    \n",
    "####################################################################################################\n",
    "####################################################################################################\n",
    "    \n",
    "nRows = len(df_merged_all.index)\n",
    "\n",
    "file_out_all  = dir_base + 'merged_all_' + str(nRows) + '.pkl'\n",
    "\n",
    "df_merged_all.to_pickle(file_out_all)\n",
    "\n",
    "\n",
    "####################################################################################################\n",
    "####################################################################################################\n",
    "    \n",
    "print()\n",
    "display(df_merged_all.shape)\n",
    "display(df_merged_all[0:5][:])\n",
    "print()\n",
    "\n"
   ]
  },
  {
   "cell_type": "code",
   "execution_count": null,
   "metadata": {},
   "outputs": [],
   "source": []
  },
  {
   "cell_type": "code",
   "execution_count": null,
   "metadata": {},
   "outputs": [],
   "source": []
  }
 ],
 "metadata": {
  "kernelspec": {
   "display_name": "Python 3",
   "language": "python",
   "name": "python3"
  },
  "language_info": {
   "codemirror_mode": {
    "name": "ipython",
    "version": 3
   },
   "file_extension": ".py",
   "mimetype": "text/x-python",
   "name": "python",
   "nbconvert_exporter": "python",
   "pygments_lexer": "ipython3",
   "version": "3.5.4"
  }
 },
 "nbformat": 4,
 "nbformat_minor": 1
}

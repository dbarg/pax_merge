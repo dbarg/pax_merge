{
 "cells": [
  {
   "cell_type": "code",
   "execution_count": 1,
   "metadata": {},
   "outputs": [
    {
     "name": "stderr",
     "output_type": "stream",
     "text": [
      "processor MainProcess L66 INFO This is PAX version 6.9.0, running with configuration for XENON1T.\n"
     ]
    },
    {
     "name": "stdout",
     "output_type": "stream",
     "text": [
      "You don't have ROOT or root_pandas, root truth file output is disabled\n"
     ]
    },
    {
     "name": "stderr",
     "output_type": "stream",
     "text": [
      "WriteZipped MainProcess L223 INFO Overwriting output directory dummy_waveforms_1t\n"
     ]
    }
   ],
   "source": [
    "\n",
    "####################################################################################################\n",
    "####################################################################################################\n",
    "\n",
    "import sys\n",
    "import os\n",
    "\n",
    "import datetime\n",
    "import matplotlib.pyplot as plt\n",
    "import numpy as np\n",
    "import pandas as pd\n",
    "import pprint\n",
    "\n",
    "from IPython.display import clear_output\n",
    "from IPython.display import display\n",
    "\n",
    "sys.path.append(os.path.abspath(\"../\"))\n",
    "sys.path.append(os.path.abspath(\"../pax\"))\n",
    "\n",
    "from pax_utils import event_utils\n",
    "from pax_utils import file_utils\n",
    "from pax_utils import interaction_utils\n",
    "from pax_utils import s1s2_utils\n",
    "from pax_utils import waveform_utils\n",
    "\n",
    "from pax import core\n",
    "\n",
    "pp = pprint.PrettyPrinter(depth=6)\n",
    "\n"
   ]
  },
  {
   "cell_type": "code",
   "execution_count": 2,
   "metadata": {},
   "outputs": [
    {
     "data": {
      "text/plain": [
       "<matplotlib.figure.Figure at 0x1a14e80518>"
      ]
     },
     "metadata": {},
     "output_type": "display_data"
    }
   ],
   "source": [
    "\n",
    "####################################################################################################\n",
    "####################################################################################################\n",
    "\n",
    "f = plt.figure(figsize=(20, 10))\n",
    "\n",
    "def processPklEvents(zipfilename):\n",
    "\n",
    "    ################################################################################################\n",
    "    ################################################################################################\n",
    "    \n",
    "    lst_pkl_files  = file_utils.getListOfPklFilesFromZipFile(zipfilename, nEventsPerFile)\n",
    "\n",
    "    \n",
    "    ################################################################################################\n",
    "    ################################################################################################\n",
    "    \n",
    "    sum_wf = None\n",
    "    event  = None\n",
    "    df_zip_merged = pd.DataFrame()\n",
    "    \n",
    "        \n",
    "    ################################################################################################\n",
    "    ################################################################################################\n",
    "    \n",
    "    for iPklFile in range(0, len(lst_pkl_files)):\n",
    "    \n",
    "        print(\"File: '\" + str(zipfilename) + \"'\")\n",
    "        print(\"   event_number: \" + str(iPklFile))\n",
    "        clear_output(wait=True)\n",
    "        \n",
    "        \n",
    "        ############################################################################################\n",
    "        ############################################################################################\n",
    "        \n",
    "        pklfilename  = lst_pkl_files[iPklFile]\n",
    "        event        = file_utils.getPaxEventFromPklFileInZipArchive(zipfilename, pklfilename)\n",
    "\n",
    "      \n",
    "        ############################################################################################\n",
    "        ############################################################################################\n",
    "        \n",
    "        interactions  = event.interactions\n",
    "        nInteractions = len(interactions)\n",
    "        \n",
    "        #if (nInteractions != 1): continue\n",
    "\n",
    "            \n",
    "            \n",
    "        ############################################################################################\n",
    "        ############################################################################################\n",
    "        \n",
    "        df_pkl_event  = event_utils.getEventDataFrameFromEvent(event)\n",
    "        df_pkl_intr   = interaction_utils.getInteractionDataFrameFromEvent(event)\n",
    "        df_pkl_s2s    = s1s2_utils.getS2integralsDataFrame(event, 127)\n",
    "        \n",
    "     \n",
    "        ############################################################################################\n",
    "        ############################################################################################\n",
    "    \n",
    "        df_pkl_merged = df_pkl_event.merge(df_pkl_intr).merge(df_pkl_s2s)\n",
    "        df_zip_merged = df_zip_merged.append(df_pkl_merged)\n",
    "        \n",
    "        continue\n",
    "      \n",
    "    \n",
    "    ################################################################################################\n",
    "    ################################################################################################\n",
    "    \n",
    "    df_zip_merged.reset_index(inplace=True, drop=True)\n",
    "       \n",
    "    return df_zip_merged\n",
    "\n",
    "    "
   ]
  },
  {
   "cell_type": "code",
   "execution_count": 3,
   "metadata": {},
   "outputs": [
    {
     "name": "stdout",
     "output_type": "stream",
     "text": [
      "Done\n",
      "merged/merged_pax_2k_test.pkl\n"
     ]
    }
   ],
   "source": [
    "import glob\n",
    "\n",
    "####################################################################################################\n",
    "####################################################################################################\n",
    "\n",
    "#ver = 'test'\n",
    "ver = datetime.datetime.now().strftime(\"%y%m%d%H%M\")\n",
    "ver = 'test'\n",
    "\n",
    "nEventsPerFile = 2 #1000\n",
    "nFilesZip      = 1 #200\n",
    "nEvents        = nEventsPerFile * nFilesZip\n",
    "dir_input    = '../pax_run/pax_output/Mar25/'\n",
    "dir_format   = dir_input + \"instructions_\" + ('[0-9]' * 6)\n",
    "file_format  = 'XENON1T-0-000000000-000000999-000001000.zip'\n",
    "file_pkl     = 'merged/merged_pax_' + str(nEvents % 1000) + 'k_' + ver + '.pkl'\n",
    "lst_contents = glob.glob(dir_format)\n",
    "\n",
    "if (nFilesZip == -1):\n",
    "    \n",
    "    nFilesZip    = len(lst_contents)\n",
    "\n",
    "print()\n",
    "print(\"PAX input files: \" + str(nFilesZip))\n",
    "print()\n",
    "\n",
    "\n",
    "####################################################################################################\n",
    "####################################################################################################\n",
    "\n",
    "df = pd.DataFrame()\n",
    "\n",
    "for iZip in range(0, nFilesZip):\n",
    "    \n",
    "    ################################################################################################\n",
    "    ################################################################################################\n",
    "    \n",
    "    zipfilename = lst_contents[iZip] + '/' + file_format\n",
    "    \n",
    "    if (not os.path.exists(zipfilename)):\n",
    "        \n",
    "        print(\"Error! File: '\" + str(zipfilename) + \"' does not exist.\")\n",
    "    \n",
    "        continue\n",
    "        \n",
    "    print(\"File: '\" + str(zipfilename) + \"'\")\n",
    "    \n",
    "    \n",
    "    ################################################################################################\n",
    "    ################################################################################################\n",
    "    \n",
    "    df_zip_merged = processPklEvents(zipfilename)\n",
    "    \n",
    "    df = df.append(df_zip_merged)\n",
    "    \n",
    "    continue\n",
    "    \n",
    "\n",
    "print(\"Done\")\n",
    "\n",
    "\n",
    "####################################################################################################\n",
    "# Write\n",
    "####################################################################################################\n",
    "\n",
    "print(file_pkl)\n",
    "\n",
    "df.to_pickle(file_pkl)\n",
    "\n"
   ]
  },
  {
   "cell_type": "code",
   "execution_count": null,
   "metadata": {},
   "outputs": [],
   "source": []
  },
  {
   "cell_type": "code",
   "execution_count": null,
   "metadata": {},
   "outputs": [],
   "source": []
  }
 ],
 "metadata": {
  "kernelspec": {
   "display_name": "Python 3",
   "language": "python",
   "name": "python3"
  },
  "language_info": {
   "codemirror_mode": {
    "name": "ipython",
    "version": 3
   },
   "file_extension": ".py",
   "mimetype": "text/x-python",
   "name": "python",
   "nbconvert_exporter": "python",
   "pygments_lexer": "ipython3",
   "version": "3.5.4"
  }
 },
 "nbformat": 4,
 "nbformat_minor": 1
}

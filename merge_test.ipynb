{
 "cells": [
  {
   "cell_type": "code",
   "execution_count": 1,
   "metadata": {
    "collapsed": false
   },
   "outputs": [],
   "source": [
    "\n",
    "#------------------------------------------------------------------------------\n",
    "#------------------------------------------------------------------------------\n",
    "\n",
    "%load_ext autoreload\n",
    "%autoreload 2\n",
    "\n",
    "\n",
    "from merge import *\n"
   ]
  },
  {
   "cell_type": "code",
   "execution_count": 2,
   "metadata": {
    "collapsed": false
   },
   "outputs": [
    {
     "name": "stdout",
     "output_type": "stream",
     "text": [
      "\n",
      "2 directories files found in:\n",
      "   ../pax_run/test\n",
      "\n",
      "Input Zip File:  '../pax_run/test/instructions_000000/XENON1T-0-000000000-000000999-000001000.zip'\n",
      "   Processing PKL file: 0\n",
      "   Processing PKL file: 100\n",
      "   Processing PKL file: 200\n",
      "   Processing PKL file: 300\n",
      "   Processing PKL file: 400\n",
      "   Processing PKL file: 500\n",
      "   Processing PKL file: 600\n",
      "   Processing PKL file: 700\n",
      "   Processing PKL file: 800\n",
      "   Processing PKL file: 900\n",
      "Input Zip File:  '../pax_run/test/instructions_000001/XENON1T-0-000000000-000000999-000001000.zip'\n",
      "   Processing PKL file: 0\n",
      "   Processing PKL file: 100\n",
      "   Processing PKL file: 200\n",
      "   Processing PKL file: 300\n",
      "   Processing PKL file: 400\n",
      "   Processing PKL file: 500\n",
      "   Processing PKL file: 600\n",
      "Error! Summed waveform from dataframe & event not equal\n",
      "Error! Sum of summed waveform from dataframe & event not equal\n",
      "   Processing PKL file: 700\n",
      "   Processing PKL file: 800\n",
      "   Processing PKL file: 900\n"
     ]
    }
   ],
   "source": [
    "\n",
    "#------------------------------------------------------------------------------\n",
    "#------------------------------------------------------------------------------\n",
    "\n",
    "dir_in = '../pax_run/test'\n",
    "\n",
    "process_dir(dir_in)\n",
    "\n"
   ]
  },
  {
   "cell_type": "code",
   "execution_count": null,
   "metadata": {
    "collapsed": true
   },
   "outputs": [],
   "source": []
  },
  {
   "cell_type": "code",
   "execution_count": null,
   "metadata": {
    "collapsed": true
   },
   "outputs": [],
   "source": []
  }
 ],
 "metadata": {
  "kernelspec": {
   "display_name": "Python 3",
   "language": "python",
   "name": "python3"
  },
  "language_info": {
   "codemirror_mode": {
    "name": "ipython",
    "version": 3
   },
   "file_extension": ".py",
   "mimetype": "text/x-python",
   "name": "python",
   "nbconvert_exporter": "python",
   "pygments_lexer": "ipython3",
   "version": "3.4.4"
  }
 },
 "nbformat": 4,
 "nbformat_minor": 1
}
